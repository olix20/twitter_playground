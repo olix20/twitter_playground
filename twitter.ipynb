{
 "cells": [
  {
   "cell_type": "code",
   "execution_count": 24,
   "metadata": {
    "collapsed": false
   },
   "outputs": [],
   "source": [
    "import tweepy\n",
    "from tweepy import OAuthHandler\n",
    " \n",
    "consumer_key = 'I6d5MKKL5NfmwwNMQBQRyUhUw'\n",
    "consumer_secret = 'jtJwSQbm8CAz75lsmQR7Snm2cPwsSX43VwE3j9Jrz5JBYhCVFy'\n",
    "access_token = '278947682-ZIYLhrXxa6SE56rIINOuYF40HsZAP5fzkhKF9PWQ'\n",
    "access_secret = 'dQWlORj1eiDx3z5bY6IL3425IBO3a7PNY1Xhm9DjvmyH1'\n",
    " \n",
    "auth = OAuthHandler(consumer_key, consumer_secret)\n",
    "auth.set_access_token(access_token, access_secret)\n",
    " \n",
    "api = tweepy.API(auth)"
   ]
  },
  {
   "cell_type": "code",
   "execution_count": 25,
   "metadata": {
    "collapsed": false
   },
   "outputs": [
    {
     "name": "stdout",
     "output_type": "stream",
     "text": [
      "Error on_data: Twitter error response: status code = 429\n"
     ]
    }
   ],
   "source": [
    "import json \n",
    "tweetsList = [] \n",
    "try:\n",
    "    with open(\"tweets.txt\", 'a') as f:\n",
    "        \n",
    "        for status in tweepy.Cursor(api.search , geocode=\"52.358545,4.881302,20km\" ).items():\n",
    "            # Process a single status\n",
    "            #print(status.text )\n",
    "            tweetsList.append(json.dumps(status._json))\n",
    "            f.write(json.dumps(status._json) +\"\\n\")\n",
    "    \n",
    "except BaseException as e:\n",
    "    print(\"Error on_data: %s\" % str(e))\n",
    "\n",
    "    "
   ]
  },
  {
   "cell_type": "code",
   "execution_count": 26,
   "metadata": {
    "collapsed": false
   },
   "outputs": [],
   "source": [
    "# Convert tweets to GeoJSON points for display on map \n",
    "\n",
    "with open(\"tweets.txt\", 'r') as f:\n",
    "    geo_data = {\n",
    "        \"type\": \"FeatureCollection\",\n",
    "        \"features\": []\n",
    "    }\n",
    "    for line in f:\n",
    "        tweet = json.loads(line)\n",
    "        if tweet['coordinates']:\n",
    "            geo_json_feature = {\n",
    "                \"type\": \"Feature\",\n",
    "                \"geometry\": tweet['coordinates'],\n",
    "                \"properties\": {\n",
    "                    \"text\": tweet['text'],\n",
    "                    \"created_at\": tweet['created_at']\n",
    "                }\n",
    "            }\n",
    "            geo_data['features'].append(geo_json_feature)\n",
    " \n",
    "# Save geo data\n",
    "with open('geo_data.json', 'w') as fout:\n",
    "    fout.write(json.dumps(geo_data, indent=4))\n"
   ]
  },
  {
   "cell_type": "code",
   "execution_count": 54,
   "metadata": {
    "collapsed": false
   },
   "outputs": [
    {
     "name": "stdout",
     "output_type": "stream",
     "text": [
      "RT @HughRiversUK: Frost White Python KeyChain | Hugh Rivers | Victoria Beckham - https://t.co/NqoN9NQX0I #victoriabeckham #giftideas https:…\n",
      "&amp;quot;Large data&amp;quot; work flows using pandas #python #mongodb #pandas #large-data #hdf5 https://t.co/X3JnJKOn9v\n"
     ]
    }
   ],
   "source": [
    "#STREAMING TEST\n",
    "#override tweepy.StreamListener to add logic to on_status\n",
    "class MyStreamListener(tweepy.StreamListener):\n",
    "\n",
    "    def on_status(self, status):\n",
    "        print(status.text)\n",
    "        \n",
    "    def on_error(self, status_code):\n",
    "        if status_code == 420:\n",
    "            #returning False in on_data disconnects the stream\n",
    "            return False        \n",
    "        \n",
    "        \n",
    "\n",
    "\n",
    "myStreamListener = MyStreamListener()\n",
    "myStream = tweepy.Stream(auth = api.auth, listener=myStreamListener)        \n",
    "myStream.filter(track=['ACN pyramid'], async=True)"
   ]
  },
  {
   "cell_type": "code",
   "execution_count": null,
   "metadata": {
    "collapsed": true
   },
   "outputs": [],
   "source": []
  }
 ],
 "metadata": {
  "anaconda-cloud": {},
  "kernelspec": {
   "display_name": "Python [default]",
   "language": "python",
   "name": "python3"
  },
  "language_info": {
   "codemirror_mode": {
    "name": "ipython",
    "version": 3
   },
   "file_extension": ".py",
   "mimetype": "text/x-python",
   "name": "python",
   "nbconvert_exporter": "python",
   "pygments_lexer": "ipython3",
   "version": "3.5.2"
  }
 },
 "nbformat": 4,
 "nbformat_minor": 1
}
